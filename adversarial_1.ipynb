{
 "cells": [
  {
   "cell_type": "markdown",
   "metadata": {
    "colab_type": "text",
    "id": "tcXfxEieXAIl"
   },
   "source": [
    "# CNN Model for MNIST Detection"
   ]
  },
  {
   "cell_type": "code",
   "execution_count": 1,
   "metadata": {
    "colab": {
     "base_uri": "https://localhost:8080/",
     "height": 34
    },
    "colab_type": "code",
    "executionInfo": {
     "elapsed": 5753,
     "status": "ok",
     "timestamp": 1590600216102,
     "user": {
      "displayName": "Ido Calman",
      "photoUrl": "",
      "userId": "08425851212466799066"
     },
     "user_tz": -180
    },
    "id": "i3HiqylaUbhE",
    "outputId": "5a6439d4-d9e7-4a2c-ea29-ee0a5ca42164"
   },
   "outputs": [],
   "source": [
    "import tensorflow as tf\n",
    "import os\n",
    "import numpy as np\n",
    "import matplotlib.pyplot as plt\n",
    "import tensorflow as tf\n",
    "from tensorflow import keras\n",
    "from tensorflow.keras import layers\n",
    "import math\n",
    "\n",
    "# Enable inline plotting\n",
    "%matplotlib inline\n",
    "\n",
    "import warnings\n",
    "warnings.filterwarnings(\"ignore\", category=DeprecationWarning)\n",
    "warnings.filterwarnings(\"ignore\", category=FutureWarning)"
   ]
  },
  {
   "cell_type": "code",
   "execution_count": 2,
   "metadata": {
    "colab": {},
    "colab_type": "code",
    "id": "HwL7Wk4OUrda"
   },
   "outputs": [],
   "source": [
    "''' Build a simple MNIST classification CNN\n",
    "    The network takes ~3 minutes to train on a normal laptop and reaches roughly 97% of accuracy\n",
    "    Model structure: Conv, Conv, Max pooling, Dropout, Dense, Dense\n",
    "'''\n",
    "def build_mnist_model():\n",
    "    \n",
    "    activation = 'relu'\n",
    "    # input image dimensions\n",
    "    img_rows, img_cols, img_colors = 28, 28, 1\n",
    "    \n",
    "    model = keras.Sequential()\n",
    "    model.add(layers.Conv2D(8, kernel_size=(3, 3), input_shape=(img_rows, img_cols, img_colors), activation=activation))\n",
    "    model.add(layers.Conv2D(8, (3, 3), activation=activation))\n",
    "    model.add(layers.MaxPooling2D(pool_size=(2, 2)))\n",
    "    model.add(layers.Dropout(0.25))\n",
    "    model.add(layers.Flatten())\n",
    "    model.add(layers.Dense(128, activation=activation))\n",
    "    model.add(layers.Dropout(0.5))\n",
    "    model.add(layers.Dense(num_classes))\n",
    "    model.add(layers.Activation('softmax', name='y_pred'))\n",
    "              \n",
    "    return model"
   ]
  },
  {
   "cell_type": "code",
   "execution_count": 3,
   "metadata": {
    "colab": {},
    "colab_type": "code",
    "id": "06a_kb5dU8Z-"
   },
   "outputs": [],
   "source": [
    "''' Normalize input to the range of [0..1]\n",
    "    Apart from assisting in the convergance of the training process, this \n",
    "    will also make our lives easier during the adversarial attack process\n",
    "'''\n",
    "def normalize(x_train,x_test):\n",
    "    x_train -= x_train.min()\n",
    "    x_train /= x_train.max()\n",
    "    x_test -= x_test.min()\n",
    "    x_test /= x_test.max()\n",
    "    \n",
    "    return x_train, x_test"
   ]
  },
  {
   "cell_type": "code",
   "execution_count": 4,
   "metadata": {
    "colab": {},
    "colab_type": "code",
    "id": "ZtXiH7ueUuJ2"
   },
   "outputs": [],
   "source": [
    "# Load and prepare the datasets for training\n",
    "num_classes = 10\n",
    "\n",
    "img_rows, img_cols, img_colors = 28, 28, 1\n",
    "(train_images, train_labels), (test_images, test_labels) = keras.datasets.mnist.load_data()\n",
    "train_images = train_images.astype('float32')\n",
    "test_images = test_images.astype('float32')\n",
    "train_images = train_images.reshape(train_images.shape[0], img_rows, img_cols, 1)\n",
    "test_images = test_images.reshape(test_images.shape[0], img_rows, img_cols, 1)\n",
    "train_images, test_images = normalize(train_images, test_images)\n",
    "sanity_images = test_images[:10]\n",
    "    \n",
    "train_labels = keras.utils.to_categorical(train_labels, num_classes)\n",
    "test_labels = keras.utils.to_categorical(test_labels, num_classes)\n",
    "sanity_labels = test_labels[:10]"
   ]
  },
  {
   "cell_type": "code",
   "execution_count": 5,
   "metadata": {
    "colab": {
     "base_uri": "https://localhost:8080/",
     "height": 513
    },
    "colab_type": "code",
    "executionInfo": {
     "elapsed": 337952,
     "status": "ok",
     "timestamp": 1590600550218,
     "user": {
      "displayName": "Ido Calman",
      "photoUrl": "",
      "userId": "08425851212466799066"
     },
     "user_tz": -180
    },
    "id": "4VjTmAGLU2CB",
    "outputId": "760b41ac-8171-4db4-e3c3-4024c1d03365"
   },
   "outputs": [
    {
     "name": "stderr",
     "output_type": "stream",
     "text": [
      "WARNING: Logging before flag parsing goes to stderr.\n",
      "W0604 17:18:06.070565 4467701184 deprecation.py:506] From /usr/local/lib/python3.7/site-packages/tensorflow/python/ops/init_ops.py:1251: calling VarianceScaling.__init__ (from tensorflow.python.ops.init_ops) with dtype is deprecated and will be removed in a future version.\n",
      "Instructions for updating:\n",
      "Call initializer instance with the dtype argument instead of passing it to the constructor\n"
     ]
    },
    {
     "name": "stdout",
     "output_type": "stream",
     "text": [
      "Train on 60000 samples, validate on 10000 samples\n",
      "Epoch 1/12\n",
      "60000/60000 [==============================] - 16s 261us/sample - loss: 1.0120 - categorical_accuracy: 0.6693 - val_loss: 0.3164 - val_categorical_accuracy: 0.9122\n",
      "Epoch 2/12\n",
      "60000/60000 [==============================] - 15s 256us/sample - loss: 0.4612 - categorical_accuracy: 0.8579 - val_loss: 0.2340 - val_categorical_accuracy: 0.9330\n",
      "Epoch 3/12\n",
      "60000/60000 [==============================] - 15s 252us/sample - loss: 0.3723 - categorical_accuracy: 0.8863 - val_loss: 0.1943 - val_categorical_accuracy: 0.9419\n",
      "Epoch 4/12\n",
      "60000/60000 [==============================] - 15s 249us/sample - loss: 0.3231 - categorical_accuracy: 0.9015 - val_loss: 0.1652 - val_categorical_accuracy: 0.9499\n",
      "Epoch 5/12\n",
      "60000/60000 [==============================] - 17s 285us/sample - loss: 0.2815 - categorical_accuracy: 0.9150 - val_loss: 0.1449 - val_categorical_accuracy: 0.9560\n",
      "Epoch 6/12\n",
      "60000/60000 [==============================] - 17s 286us/sample - loss: 0.2597 - categorical_accuracy: 0.9230 - val_loss: 0.1296 - val_categorical_accuracy: 0.9608\n",
      "Epoch 7/12\n",
      "60000/60000 [==============================] - 15s 254us/sample - loss: 0.2401 - categorical_accuracy: 0.9273 - val_loss: 0.1191 - val_categorical_accuracy: 0.9626\n",
      "Epoch 8/12\n",
      "60000/60000 [==============================] - 15s 256us/sample - loss: 0.2227 - categorical_accuracy: 0.9337 - val_loss: 0.1113 - val_categorical_accuracy: 0.9644\n",
      "Epoch 9/12\n",
      "60000/60000 [==============================] - 16s 259us/sample - loss: 0.2045 - categorical_accuracy: 0.9393 - val_loss: 0.1019 - val_categorical_accuracy: 0.9670\n",
      "Epoch 10/12\n",
      "60000/60000 [==============================] - 16s 260us/sample - loss: 0.1955 - categorical_accuracy: 0.9418 - val_loss: 0.0957 - val_categorical_accuracy: 0.9695\n",
      "Epoch 11/12\n",
      "60000/60000 [==============================] - 15s 257us/sample - loss: 0.1860 - categorical_accuracy: 0.9445 - val_loss: 0.0912 - val_categorical_accuracy: 0.9706\n",
      "Epoch 12/12\n",
      "60000/60000 [==============================] - 15s 256us/sample - loss: 0.1782 - categorical_accuracy: 0.9465 - val_loss: 0.0873 - val_categorical_accuracy: 0.9721\n"
     ]
    }
   ],
   "source": [
    "# Train the model\n",
    "batch_size = 128\n",
    "maxepoches = 12\n",
    "learning_rate = 0.1\n",
    "lr_decay = 1e-6\n",
    "lr_drop = 20\n",
    "\n",
    "sess = tf.Session()\n",
    "keras.backend.set_session(sess)\n",
    "\n",
    "def lr_scheduler(epoch):\n",
    "    return learning_rate * (0.5 ** (epoch // lr_drop))\n",
    "reduce_lr = keras.callbacks.LearningRateScheduler(lr_scheduler)\n",
    "\n",
    "model = build_mnist_model()\n",
    "\n",
    "model.compile(loss='categorical_crossentropy',\n",
    "              optimizer=keras.optimizers.Adadelta(),\n",
    "              metrics=[keras.metrics.CategoricalAccuracy()])\n",
    "\n",
    "history = model.fit(train_images, train_labels,\n",
    "                    batch_size=batch_size,\n",
    "                    epochs=maxepoches,\n",
    "                    verbose=1,\n",
    "                    validation_data=(test_images, test_labels),\n",
    "                    callbacks=[reduce_lr])\n"
   ]
  },
  {
   "cell_type": "markdown",
   "metadata": {
    "colab_type": "text",
    "id": "IZX91Mu6XNDZ"
   },
   "source": [
    "# Attack Utilities"
   ]
  },
  {
   "cell_type": "code",
   "execution_count": 13,
   "metadata": {},
   "outputs": [],
   "source": [
    "timages = tf.constant(test_images)\n",
    "tlabels = tf.constant(test_labels)"
   ]
  },
  {
   "cell_type": "code",
   "execution_count": 6,
   "metadata": {
    "colab": {},
    "colab_type": "code",
    "id": "rCnTbDAfXSn7"
   },
   "outputs": [],
   "source": [
    "''' A simple utility funcion for evaluating the success of an attack\n",
    "'''\n",
    "def TestAttack(model, adv_images, orig_images, true_labels, target_labels=None, targeted=False):\n",
    "    score = model.evaluate(adv_images, true_labels, verbose=0)\n",
    "    print('Test loss: {:.2f}'.format(score[0]))\n",
    "    print('Successfully moved out of source class: {:.2f}'.format( 1 - score[1]))\n",
    "    \n",
    "    if targeted:\n",
    "        score = model.evaluate(adv_images, target_labels, verbose=0)\n",
    "        print('Test loss: {:.2f}'.format(score[0]))\n",
    "        print('Successfully perturbed to target class: {:.2f}'.format(score[1]))\n",
    "    \n",
    "    dist = np.mean(np.sqrt(np.mean(np.square(adv_images - orig_images), axis=(1,2,3))))\n",
    "    print('Mean perturbation distance: {:.2f}'.format(dist))\n",
    "    \n",
    "    index = 3\n",
    "    img = adv_images[index].reshape(28, 28)\n",
    "    plt.imshow(img, cmap='gray')\n",
    "    plt.show()\n",
    "    \n",
    "    ret_score = score[1] if targeted else 1 - score[1]\n",
    "    return ret_score, dist"
   ]
  },
  {
   "cell_type": "markdown",
   "metadata": {
    "colab_type": "text",
    "id": "E4CY5x0qXYkW"
   },
   "source": [
    "# Part I - TF Implementation for PGD Attack"
   ]
  },
  {
   "cell_type": "markdown",
   "metadata": {
    "colab_type": "text",
    "id": "IoNpZ9V2XnPx"
   },
   "source": [
    "## 1. FGSM and TGSM implementations against the MNIST testing set"
   ]
  },
  {
   "cell_type": "code",
   "execution_count": 16,
   "metadata": {
    "colab": {},
    "colab_type": "code",
    "id": "P2CpRwsZXT_s"
   },
   "outputs": [],
   "source": [
    "''' Fast Gradient Sign Method implementation - perturb all input features by an epsilon sized step in \n",
    "    the direction of loss gradient\n",
    "'''\n",
    "def FGSM(model, images, labels, epsilon=0.3):  \n",
    "    adv_loss = keras.losses.categorical_crossentropy(labels, model(images))\n",
    "    grads_wrt_input, = keras.backend.gradients(adv_loss, images)\n",
    "    sign_grads = keras.backend.sign(grads_wrt_input)\n",
    "    \n",
    "    delta = epsilon * sign_grads\n",
    "    images_adv  = images + delta\n",
    "    \n",
    "    return images_adv"
   ]
  },
  {
   "cell_type": "code",
   "execution_count": 17,
   "metadata": {
    "colab": {},
    "colab_type": "code",
    "id": "FrcFhGeoyUfy"
   },
   "outputs": [
    {
     "name": "stdout",
     "output_type": "stream",
     "text": [
      "Test loss: 6.18\n",
      "Successfully moved out of source class: 0.98\n",
      "Mean perturbation distance: 0.29\n"
     ]
    },
    {
     "data": {
      "image/png": "[encoded data removed]",
      "text/plain": [
       "<Figure size 432x288 with 1 Axes>"
      ]
     },
     "metadata": {
      "needs_background": "light"
     },
     "output_type": "display_data"
    },
    {
     "data": {
      "text/plain": [
       "(0.9790000002831221, 0.29120785)"
      ]
     },
     "execution_count": 17,
     "metadata": {},
     "output_type": "execute_result"
    }
   ],
   "source": [
    "# run session\n",
    "sess = keras.backend.get_session()\n",
    "images_adv = FGSM(model, timages, tlabels)\n",
    "adv_out = sess.run(images_adv)\n",
    "\n",
    "# test results\n",
    "TestAttack(model, adv_out, test_images, test_labels, targeted=False)"
   ]
  },
  {
   "cell_type": "code",
   "execution_count": 19,
   "metadata": {
    "colab": {},
    "colab_type": "code",
    "id": "T9Fjt2-I1-BJ"
   },
   "outputs": [],
   "source": [
    "''' Targeted Gradient Sign Method implementation - A targeted variant of the FGSM attack\n",
    "    here we minimize the loss with respect to the target class, as opposed to maximizing the loss with respect\n",
    "    to the source class\n",
    "'''\n",
    "def TGSM(model, images, target, epsilon=0.3):\n",
    "    adv_loss = keras.losses.categorical_crossentropy(target, model(images))\n",
    "    grads_wrt_input, = keras.backend.gradients(adv_loss, images)\n",
    "    sign_grads = keras.backend.sign(grads_wrt_input)\n",
    "    \n",
    "    delta = epsilon * sign_grads\n",
    "    images_adv  = images - delta    \n",
    "    \n",
    "    return images_adv"
   ]
  },
  {
   "cell_type": "code",
   "execution_count": 21,
   "metadata": {
    "colab": {
     "base_uri": "https://localhost:8080/",
     "height": 350
    },
    "colab_type": "code",
    "executionInfo": {
     "elapsed": 376694,
     "status": "ok",
     "timestamp": 1590600059917,
     "user": {
      "displayName": "Ido Calman",
      "photoUrl": "",
      "userId": "08425851212466799066"
     },
     "user_tz": -180
    },
    "id": "CfBKM6qE2s30",
    "outputId": "ca0885e6-0478-4e8d-e319-197eb49cd314"
   },
   "outputs": [
    {
     "name": "stdout",
     "output_type": "stream",
     "text": [
      "Test loss: 5.03\n",
      "Successfully moved out of source class: 0.95\n",
      "Test loss: 1.45\n",
      "Successfully perturbed to target class: 0.53\n",
      "Mean perturbation distance: 0.29\n"
     ]
    },
    {
     "data": {
      "image/png": "[encoded data removed]",
      "text/plain": [
       "<Figure size 432x288 with 1 Axes>"
      ]
     },
     "metadata": {
      "needs_background": "light"
     },
     "output_type": "display_data"
    },
    {
     "data": {
      "text/plain": [
       "(0.5345, 0.29120785)"
      ]
     },
     "execution_count": 21,
     "metadata": {},
     "output_type": "execute_result"
    }
   ],
   "source": [
    "# Choose random target classes per each instance in the test set\n",
    "target = (np.argmax(test_labels, axis=1) + np.random.randint(1, num_classes, size=(test_labels.shape[0]))) % num_classes\n",
    "target = keras.utils.to_categorical(target, num_classes)\n",
    "ttarget = tf.constant(target)\n",
    "\n",
    "# run session\n",
    "sess = keras.backend.get_session()\n",
    "images_adv = TGSM(model, timages, ttarget)\n",
    "adv_out = sess.run(images_adv)\n",
    "\n",
    "# test results\n",
    "TestAttack(model, adv_out, test_images, test_labels, target, targeted=True)"
   ]
  },
  {
   "cell_type": "markdown",
   "metadata": {
    "colab_type": "text",
    "id": "5W2pWgo_4Y0V"
   },
   "source": [
    "## 2. PGD Implementation\n",
    "\n",
    "\n",
    "*   Perform projection step only when exceeding allowed radius\n",
    "*   Different constants for overall perturbation distance and iteration step size\n",
    "*   Support for targeted and untargerted\n",
    "*   Clipping to allowed values (0,1)\n",
    "*   Numerical stability (no zero division)\n",
    "*   Batch attacks in a single call\n",
    "\n"
   ]
  },
  {
   "cell_type": "code",
   "execution_count": 41,
   "metadata": {},
   "outputs": [],
   "source": [
    "def PGD(model, images, labels, epsilon=0.1, iter_eps=0.05, iterations=10, min_x=0.0, max_x=1.0, targeted=False):\n",
    "    # support batch  pertrubation\n",
    "    adv_out = images\n",
    "    \n",
    "    # loop stop condition\n",
    "    cond = lambda i, _: tf.less(i, iterations)\n",
    "    \n",
    "    # loop body\n",
    "    def body(i, adv_out):\n",
    "        # support targeted and untargeted\n",
    "        if targeted:\n",
    "            adv_out = TGSM(model, adv_out, labels, epsilon=iter_eps)  # different eps constants\n",
    "        else:\n",
    "            adv_out = FGSM(model, adv_out, labels, epsilon=iter_eps)  # different eps constants\n",
    "\n",
    "        perturbation = adv_out - images\n",
    "        # clip to allowed epsilon radius\n",
    "        norm = tf.reduce_sum(tf.square(perturbation), axis=(1,2,3), keepdims=True)\n",
    "        norm = tf.sqrt(tf.maximum(1e-11, norm))  # assure numerical stability\n",
    "        factor = tf.minimum(1., tf.math.divide(epsilon, norm))  # perform projection when exceeding radius\n",
    "        adv_out = images + perturbation * factor\n",
    "        adv_out = tf.clip_by_value(adv_out, min_x, max_x)  # clip outputs to allowed values\n",
    "        \n",
    "        return i+1, adv_out\n",
    "    \n",
    "    _, adv_out = tf.while_loop(cond, body, (tf.zeros([]), adv_out), back_prop=True,\n",
    "                             maximum_iterations=iterations)\n",
    "    \n",
    "    return adv_out"
   ]
  },
  {
   "cell_type": "code",
   "execution_count": 44,
   "metadata": {},
   "outputs": [
    {
     "name": "stdout",
     "output_type": "stream",
     "text": [
      "Test loss: 6.02\n",
      "Successfully moved out of source class: 0.97\n",
      "Mean perturbation distance: 0.14\n"
     ]
    },
    {
     "data": {
      "image/png": "[encoded data removed]",
      "text/plain": [
       "<Figure size 432x288 with 1 Axes>"
      ]
     },
     "metadata": {
      "needs_background": "light"
     },
     "output_type": "display_data"
    },
    {
     "data": {
      "text/plain": [
       "(0.9662999995052814, 0.14078593)"
      ]
     },
     "execution_count": 44,
     "metadata": {},
     "output_type": "execute_result"
    }
   ],
   "source": [
    "# run session\n",
    "sess = keras.backend.get_session()\n",
    "adv_images = PGD(model, test_images, tlabels, iterations=30, epsilon=4.0, iter_eps=0.05, targeted=False)\n",
    "adv_out = sess.run(adv_images)\n",
    "\n",
    "# test results\n",
    "TestAttack(model, adv_out, test_images, test_labels, target, targeted=False)"
   ]
  },
  {
   "cell_type": "markdown",
   "metadata": {
    "colab_type": "text",
    "id": "Q5_OocIo3TFc"
   },
   "source": [
    "## 3. Test PGD implementation over MNIST"
   ]
  },
  {
   "cell_type": "code",
   "execution_count": 46,
   "metadata": {
    "colab": {},
    "colab_type": "code",
    "id": "4JwtgwWs2Rgf"
   },
   "outputs": [],
   "source": [
    "experiments = [\n",
    "  {\n",
    "    'labels': tlabels, \n",
    "    'iterations': 30, \n",
    "    'epsilon': 4.0, \n",
    "    'iter_eps': 0.05, \n",
    "    'targeted': False\n",
    "  },\n",
    "  {\n",
    "    'labels': tlabels, \n",
    "    'iterations': 30, \n",
    "    'epsilon': 3.0, \n",
    "    'iter_eps': 0.03, \n",
    "    'targeted': False\n",
    "  },\n",
    "  {\n",
    "    'labels': tlabels,\n",
    "    'iterations': 60, \n",
    "    'epsilon': 3.0, \n",
    "    'iter_eps': 0.03, \n",
    "    'targeted': False\n",
    "  },\n",
    "  {\n",
    "    'labels': ttarget, \n",
    "    'iterations': 30, \n",
    "    'epsilon': 4.0, \n",
    "    'iter_eps': 0.05, \n",
    "    'targeted': True\n",
    "  },\n",
    "  {\n",
    "    'labels': ttarget, \n",
    "    'iterations': 30, \n",
    "    'epsilon': 3.0, \n",
    "    'iter_eps': 0.03, \n",
    "    'targeted': True\n",
    "  },\n",
    "  {\n",
    "    'labels': ttarget, \n",
    "    'iterations': 60, \n",
    "    'epsilon': 3.0, \n",
    "    'iter_eps': 0.03, \n",
    "    'targeted': True\n",
    "  }\n",
    "]"
   ]
  },
  {
   "cell_type": "code",
   "execution_count": 47,
   "metadata": {},
   "outputs": [
    {
     "name": "stdout",
     "output_type": "stream",
     "text": [
      "Experiment #1\n",
      "Test loss: 6.02\n",
      "Successfully moved out of source class: 0.97\n",
      "Mean perturbation distance: 0.14\n"
     ]
    },
    {
     "data": {
      "image/png": "[encoded data removed]",
      "text/plain": [
       "<Figure size 432x288 with 1 Axes>"
      ]
     },
     "metadata": {
      "needs_background": "light"
     },
     "output_type": "display_data"
    },
    {
     "name": "stdout",
     "output_type": "stream",
     "text": [
      "Experiment #2\n",
      "Test loss: 3.20\n",
      "Successfully moved out of source class: 0.80\n",
      "Mean perturbation distance: 0.11\n"
     ]
    },
    {
     "data": {
      "image/png": "[encoded data removed]",
      "text/plain": [
       "<Figure size 432x288 with 1 Axes>"
      ]
     },
     "metadata": {
      "needs_background": "light"
     },
     "output_type": "display_data"
    },
    {
     "name": "stdout",
     "output_type": "stream",
     "text": [
      "Experiment #3\n",
      "Test loss: 3.20\n",
      "Successfully moved out of source class: 0.80\n",
      "Mean perturbation distance: 0.11\n"
     ]
    },
    {
     "data": {
      "image/png": "[encoded data removed]",
      "text/plain": [
       "<Figure size 432x288 with 1 Axes>"
      ]
     },
     "metadata": {
      "needs_background": "light"
     },
     "output_type": "display_data"
    },
    {
     "name": "stdout",
     "output_type": "stream",
     "text": [
      "Experiment #4\n",
      "Test loss: 3.29\n",
      "Successfully moved out of source class: 0.82\n",
      "Test loss: 0.67\n",
      "Successfully perturbed to target class: 0.80\n",
      "Mean perturbation distance: 0.14\n"
     ]
    },
    {
     "data": {
      "image/png": "[encoded data removed]",
      "text/plain": [
       "<Figure size 432x288 with 1 Axes>"
      ]
     },
     "metadata": {
      "needs_background": "light"
     },
     "output_type": "display_data"
    },
    {
     "name": "stdout",
     "output_type": "stream",
     "text": [
      "Experiment #5\n",
      "Test loss: 1.39\n",
      "Successfully moved out of source class: 0.46\n",
      "Test loss: 2.13\n",
      "Successfully perturbed to target class: 0.42\n",
      "Mean perturbation distance: 0.11\n"
     ]
    },
    {
     "data": {
      "image/png": "[encoded data removed]",
      "text/plain": [
       "<Figure size 432x288 with 1 Axes>"
      ]
     },
     "metadata": {
      "needs_background": "light"
     },
     "output_type": "display_data"
    },
    {
     "name": "stdout",
     "output_type": "stream",
     "text": [
      "Experiment #6\n",
      "Test loss: 1.38\n",
      "Successfully moved out of source class: 0.45\n",
      "Test loss: 2.13\n",
      "Successfully perturbed to target class: 0.42\n",
      "Mean perturbation distance: 0.11\n"
     ]
    },
    {
     "data": {
      "image/png": "[encoded data removed]",
      "text/plain": [
       "<Figure size 432x288 with 1 Axes>"
      ]
     },
     "metadata": {
      "needs_background": "light"
     },
     "output_type": "display_data"
    }
   ],
   "source": [
    "scores = []\n",
    "for i, experiment in enumerate(experiments):\n",
    "    print(f\"Experiment #{i+1}\")\n",
    "    \n",
    "    # run session\n",
    "    sess = keras.backend.get_session()\n",
    "    adv_images = PGD(model, test_images, **experiment)\n",
    "    adv_out = sess.run(adv_images)\n",
    "\n",
    "    # test results\n",
    "    ex_score = TestAttack(model, adv_out, test_images, test_labels, target, targeted=experiment['targeted'])\n",
    "    scores.append(ex_score)"
   ]
  },
  {
   "cell_type": "code",
   "execution_count": 48,
   "metadata": {},
   "outputs": [
    {
     "data": {
      "text/plain": [
       "[(0.9662999995052814, 0.14078593),\n",
       " (0.7990999966859818, 0.10607572),\n",
       " (0.8021000027656555, 0.10607013),\n",
       " (0.7969, 0.14094576),\n",
       " (0.4214, 0.1061428),\n",
       " (0.4204, 0.10613752)]"
      ]
     },
     "execution_count": 48,
     "metadata": {},
     "output_type": "execute_result"
    }
   ],
   "source": [
    "scores"
   ]
  },
  {
   "cell_type": "markdown",
   "metadata": {
    "colab_type": "text",
    "id": "guGyFnoQGA8k"
   },
   "source": [
    "# Part II - Beyond GPD"
   ]
  },
  {
   "cell_type": "code",
   "execution_count": 49,
   "metadata": {},
   "outputs": [],
   "source": [
    "def get_frame_mask(tensor):\n",
    "    \"\"\"\n",
    "    A utility function that returns a frame numpy array\n",
    "    given two dimensions, where the frame pixels are of value 0\n",
    "    and non-frame pixels are of value 1\n",
    "    \"\"\"\n",
    "    shape = tensor.shape\n",
    "    frame = np.ones((shape[1], shape[2]), dtype=tensor.dtype)\n",
    "    frame[0, :] = 0\n",
    "    frame[shape[1] - 1, :] = 0\n",
    "    frame[:, 0] = 0\n",
    "    frame[:, shape[2] - 1] = 0\n",
    "    frame = np.tile(frame, (shape[0], 1, 1))\n",
    "    frame = np.expand_dims(frame, axis=-1)  # return to original shape\n",
    "    return frame"
   ]
  },
  {
   "cell_type": "code",
   "execution_count": 50,
   "metadata": {},
   "outputs": [],
   "source": [
    "def get_black_mask(tensor):\n",
    "    \"\"\"\n",
    "    A utility function that returns a mask numpy array\n",
    "    given a tensor, where the black pixels are of value 0\n",
    "    and non-black pixels are of value 1\n",
    "    \"\"\"\n",
    "    return (tensor != 0).astype(tensor.dtype)"
   ]
  },
  {
   "cell_type": "code",
   "execution_count": 51,
   "metadata": {
    "colab": {},
    "colab_type": "code",
    "id": "hmWiIesGGCjo"
   },
   "outputs": [],
   "source": [
    "def PGD2(model, images, labels, epsilon=0.1, iter_eps=0.05, iterations=10, min_x=0.0, max_x=1.0, targeted=False,\n",
    "         restrict_frame=False, restrict_black=False):\n",
    "    \n",
    "    # support batch  pertrubation\n",
    "    adv_out = images\n",
    "    \n",
    "    if restrict_frame:\n",
    "        frame_mask = tf.constant(get_frame_mask(images))\n",
    "        \n",
    "    if restrict_black:\n",
    "        black_mask = tf.constant(get_black_mask(images))\n",
    "    \n",
    "    # loop stop condition\n",
    "    cond = lambda i, _: tf.less(i, iterations)\n",
    "    \n",
    "    # loop body\n",
    "    def body(i, adv_out):\n",
    "        # support targeted and untargeted\n",
    "        if targeted:\n",
    "            adv_out = TGSM(model, adv_out, labels, epsilon=iter_eps)  # different eps constants\n",
    "        else:\n",
    "            adv_out = FGSM(model, adv_out, labels, epsilon=iter_eps)  # different eps constants\n",
    "\n",
    "        perturbation = adv_out - images\n",
    "        # clip to allowed epsilon radius\n",
    "        norm = tf.reduce_sum(tf.square(perturbation), axis=(1,2,3), keepdims=True)\n",
    "        norm = tf.sqrt(tf.maximum(1e-11, norm))  # assure numerical stability\n",
    "        factor = tf.minimum(1., tf.math.divide(epsilon, norm))  # perform projection when exceeding radius\n",
    "        \n",
    "        # restrict certain parts of the image\n",
    "        if restrict_frame:\n",
    "            perturbation = perturbation * frame_mask\n",
    "        if restrict_black:\n",
    "            perturbation = perturbation * black_mask\n",
    "        \n",
    "        adv_out = images + perturbation * factor\n",
    "        adv_out = tf.clip_by_value(adv_out, min_x, max_x)  # clip outputs to allowed values\n",
    "        \n",
    "        return i+1, adv_out\n",
    "    \n",
    "    _, adv_out = tf.while_loop(cond, body, (tf.zeros([]), adv_out), back_prop=True,\n",
    "                             maximum_iterations=iterations)\n",
    "    \n",
    "    return adv_out"
   ]
  },
  {
   "cell_type": "code",
   "execution_count": 58,
   "metadata": {},
   "outputs": [],
   "source": [
    "frame_experiments = [\n",
    "  {\n",
    "    'labels': tlabels, \n",
    "    'iterations': 30, \n",
    "    'epsilon': 4.0, \n",
    "    'iter_eps': 0.05, \n",
    "    'targeted': False,\n",
    "    'restrict_frame': True,\n",
    "    'restrict_black': False\n",
    "  },\n",
    "  {\n",
    "    'labels': tlabels, \n",
    "    'iterations': 30, \n",
    "    'epsilon': 3.0, \n",
    "    'iter_eps': 0.03, \n",
    "    'targeted': False,\n",
    "    'restrict_frame': True,\n",
    "    'restrict_black': False\n",
    "  },\n",
    "  {\n",
    "    'labels': tlabels,\n",
    "    'iterations': 60, \n",
    "    'epsilon': 3.0, \n",
    "    'iter_eps': 0.03, \n",
    "    'targeted': False,\n",
    "    'restrict_frame': True,\n",
    "    'restrict_black': False\n",
    "  },\n",
    "  {\n",
    "    'labels': ttarget, \n",
    "    'iterations': 30, \n",
    "    'epsilon': 4.0, \n",
    "    'iter_eps': 0.05, \n",
    "    'targeted': True,\n",
    "    'restrict_frame': True,\n",
    "    'restrict_black': False\n",
    "  },\n",
    "  {\n",
    "    'labels': ttarget, \n",
    "    'iterations': 30, \n",
    "    'epsilon': 3.0, \n",
    "    'iter_eps': 0.03, \n",
    "    'targeted': True,\n",
    "    'restrict_frame': True,\n",
    "    'restrict_black': False\n",
    "  },\n",
    "  {\n",
    "    'labels': ttarget, \n",
    "    'iterations': 60, \n",
    "    'epsilon': 3.0, \n",
    "    'iter_eps': 0.03, \n",
    "    'targeted': True,\n",
    "    'restrict_frame': True,\n",
    "    'restrict_black': False\n",
    "  }\n",
    "]"
   ]
  },
  {
   "cell_type": "code",
   "execution_count": 60,
   "metadata": {},
   "outputs": [],
   "source": [
    "black_experiments = [\n",
    "  {\n",
    "    'labels': tlabels, \n",
    "    'iterations': 30, \n",
    "    'epsilon': 4.0, \n",
    "    'iter_eps': 0.05, \n",
    "    'targeted': False,\n",
    "    'restrict_frame': False,\n",
    "    'restrict_black': True\n",
    "  },\n",
    "  {\n",
    "    'labels': tlabels, \n",
    "    'iterations': 30, \n",
    "    'epsilon': 3.0, \n",
    "    'iter_eps': 0.03, \n",
    "    'targeted': False,\n",
    "    'restrict_frame': False,\n",
    "    'restrict_black': True\n",
    "  },\n",
    "  {\n",
    "    'labels': tlabels,\n",
    "    'iterations': 60, \n",
    "    'epsilon': 3.0, \n",
    "    'iter_eps': 0.03, \n",
    "    'targeted': False,\n",
    "    'restrict_frame': False,\n",
    "    'restrict_black': True\n",
    "  },\n",
    "  {\n",
    "    'labels': ttarget, \n",
    "    'iterations': 30, \n",
    "    'epsilon': 4.0, \n",
    "    'iter_eps': 0.05, \n",
    "    'targeted': True,\n",
    "    'restrict_frame': False,\n",
    "    'restrict_black': True\n",
    "  },\n",
    "  {\n",
    "    'labels': ttarget, \n",
    "    'iterations': 30, \n",
    "    'epsilon': 3.0, \n",
    "    'iter_eps': 0.03, \n",
    "    'targeted': True,\n",
    "    'restrict_frame': False,\n",
    "    'restrict_black': True\n",
    "  },\n",
    "  {\n",
    "    'labels': ttarget, \n",
    "    'iterations': 60, \n",
    "    'epsilon': 3.0, \n",
    "    'iter_eps': 0.03, \n",
    "    'targeted': True,\n",
    "    'restrict_frame': False,\n",
    "    'restrict_black': True\n",
    "  }\n",
    "]"
   ]
  },
  {
   "cell_type": "code",
   "execution_count": 59,
   "metadata": {},
   "outputs": [
    {
     "name": "stdout",
     "output_type": "stream",
     "text": [
      "Experiment #1\n",
      "Test loss: 6.50\n",
      "Successfully moved out of source class: 0.97\n",
      "Mean perturbation distance: 0.14\n"
     ]
    },
    {
     "data": {
      "image/png": "[encoded data removed]",
      "text/plain": [
       "<Figure size 432x288 with 1 Axes>"
      ]
     },
     "metadata": {
      "needs_background": "light"
     },
     "output_type": "display_data"
    },
    {
     "name": "stdout",
     "output_type": "stream",
     "text": [
      "Experiment #2\n",
      "Test loss: 3.51\n",
      "Successfully moved out of source class: 0.83\n",
      "Mean perturbation distance: 0.11\n"
     ]
    },
    {
     "data": {
      "image/png": "[encoded data removed]",
      "text/plain": [
       "<Figure size 432x288 with 1 Axes>"
      ]
     },
     "metadata": {
      "needs_background": "light"
     },
     "output_type": "display_data"
    },
    {
     "name": "stdout",
     "output_type": "stream",
     "text": [
      "Experiment #3\n",
      "Test loss: 3.52\n",
      "Successfully moved out of source class: 0.83\n",
      "Mean perturbation distance: 0.11\n"
     ]
    },
    {
     "data": {
      "image/png": "[encoded data removed]",
      "text/plain": [
       "<Figure size 432x288 with 1 Axes>"
      ]
     },
     "metadata": {
      "needs_background": "light"
     },
     "output_type": "display_data"
    },
    {
     "name": "stdout",
     "output_type": "stream",
     "text": [
      "Experiment #4\n",
      "Test loss: 3.68\n",
      "Successfully moved out of source class: 0.85\n",
      "Test loss: 0.55\n",
      "Successfully perturbed to target class: 0.83\n",
      "Mean perturbation distance: 0.14\n"
     ]
    },
    {
     "data": {
      "image/png": "[encoded data removed]",
      "text/plain": [
       "<Figure size 432x288 with 1 Axes>"
      ]
     },
     "metadata": {
      "needs_background": "light"
     },
     "output_type": "display_data"
    },
    {
     "name": "stdout",
     "output_type": "stream",
     "text": [
      "Experiment #5\n",
      "Test loss: 1.58\n",
      "Successfully moved out of source class: 0.51\n",
      "Test loss: 1.90\n",
      "Successfully perturbed to target class: 0.47\n",
      "Mean perturbation distance: 0.11\n"
     ]
    },
    {
     "data": {
      "image/png": "[encoded data removed]",
      "text/plain": [
       "<Figure size 432x288 with 1 Axes>"
      ]
     },
     "metadata": {
      "needs_background": "light"
     },
     "output_type": "display_data"
    },
    {
     "name": "stdout",
     "output_type": "stream",
     "text": [
      "Experiment #6\n",
      "Test loss: 1.57\n",
      "Successfully moved out of source class: 0.50\n",
      "Test loss: 1.90\n",
      "Successfully perturbed to target class: 0.47\n",
      "Mean perturbation distance: 0.11\n"
     ]
    },
    {
     "data": {
      "image/png": "[encoded data removed]",
      "text/plain": [
       "<Figure size 432x288 with 1 Axes>"
      ]
     },
     "metadata": {
      "needs_background": "light"
     },
     "output_type": "display_data"
    }
   ],
   "source": [
    "frame_scores = []\n",
    "for i, frame_experiment in enumerate(frame_experiments):\n",
    "    print(f\"Experiment #{i+1}\")\n",
    "    \n",
    "    # run session\n",
    "    sess = keras.backend.get_session()\n",
    "    adv_images = PGD2(model, test_images, **frame_experiment)\n",
    "    adv_out = sess.run(adv_images)\n",
    "\n",
    "    # test results\n",
    "    ex_score = TestAttack(model, adv_out, test_images, test_labels, target, targeted=frame_experiment['targeted'])\n",
    "    scores.append(ex_score)"
   ]
  },
  {
   "cell_type": "code",
   "execution_count": 63,
   "metadata": {},
   "outputs": [
    {
     "name": "stdout",
     "output_type": "stream",
     "text": [
      "Experiment #1\n",
      "Test loss: 3.27\n",
      "Successfully moved out of source class: 0.78\n",
      "Mean perturbation distance: 0.14\n"
     ]
    },
    {
     "data": {
      "image/png": "[encoded data removed]",
      "text/plain": [
       "<Figure size 432x288 with 1 Axes>"
      ]
     },
     "metadata": {
      "needs_background": "light"
     },
     "output_type": "display_data"
    },
    {
     "name": "stdout",
     "output_type": "stream",
     "text": [
      "Experiment #2\n",
      "Test loss: 1.69\n",
      "Successfully moved out of source class: 0.51\n",
      "Mean perturbation distance: 0.10\n"
     ]
    },
    {
     "data": {
      "image/png": "[encoded data removed]",
      "text/plain": [
       "<Figure size 432x288 with 1 Axes>"
      ]
     },
     "metadata": {
      "needs_background": "light"
     },
     "output_type": "display_data"
    },
    {
     "name": "stdout",
     "output_type": "stream",
     "text": [
      "Experiment #3\n",
      "Test loss: 1.68\n",
      "Successfully moved out of source class: 0.50\n",
      "Mean perturbation distance: 0.10\n"
     ]
    },
    {
     "data": {
      "image/png": "[encoded data removed]",
      "text/plain": [
       "<Figure size 432x288 with 1 Axes>"
      ]
     },
     "metadata": {
      "needs_background": "light"
     },
     "output_type": "display_data"
    },
    {
     "name": "stdout",
     "output_type": "stream",
     "text": [
      "Experiment #4\n",
      "Test loss: 1.40\n",
      "Successfully moved out of source class: 0.44\n",
      "Test loss: 2.31\n",
      "Successfully perturbed to target class: 0.40\n",
      "Mean perturbation distance: 0.14\n"
     ]
    },
    {
     "data": {
      "image/png": "[encoded data removed]",
      "text/plain": [
       "<Figure size 432x288 with 1 Axes>"
      ]
     },
     "metadata": {
      "needs_background": "light"
     },
     "output_type": "display_data"
    },
    {
     "name": "stdout",
     "output_type": "stream",
     "text": [
      "Experiment #5\n",
      "Test loss: 0.63\n",
      "Successfully moved out of source class: 0.20\n",
      "Test loss: 4.14\n",
      "Successfully perturbed to target class: 0.16\n",
      "Mean perturbation distance: 0.10\n"
     ]
    },
    {
     "data": {
      "image/png": "[encoded data removed]",
      "text/plain": [
       "<Figure size 432x288 with 1 Axes>"
      ]
     },
     "metadata": {
      "needs_background": "light"
     },
     "output_type": "display_data"
    },
    {
     "name": "stdout",
     "output_type": "stream",
     "text": [
      "Experiment #6\n",
      "Test loss: 0.62\n",
      "Successfully moved out of source class: 0.19\n",
      "Test loss: 4.16\n",
      "Successfully perturbed to target class: 0.16\n",
      "Mean perturbation distance: 0.10\n"
     ]
    },
    {
     "data": {
      "image/png": "[encoded data removed]",
      "text/plain": [
       "<Figure size 432x288 with 1 Axes>"
      ]
     },
     "metadata": {
      "needs_background": "light"
     },
     "output_type": "display_data"
    }
   ],
   "source": [
    "black_scores = []\n",
    "for i, black_experiment in enumerate(black_experiments):\n",
    "    print(f\"Experiment #{i+1}\")\n",
    "    \n",
    "    # run session\n",
    "    sess = keras.backend.get_session()\n",
    "    adv_images = PGD2(model, test_images, **black_experiment)\n",
    "    adv_out = sess.run(adv_images)\n",
    "\n",
    "    # test results\n",
    "    ex_score = TestAttack(model, adv_out, test_images, test_labels, target, targeted=black_experiment['targeted'])\n",
    "    scores.append(ex_score)"
   ]
  }
 ],
 "metadata": {
  "accelerator": "GPU",
  "colab": {
   "authorship_tag": "ABX9TyNzkZ6GhmZoMT3aWbV8Acdp",
   "collapsed_sections": [],
   "name": "adversarial_1.ipynb",
   "provenance": []
  },
  "kernelspec": {
   "display_name": "Python 3",
   "language": "python",
   "name": "python3"
  },
  "language_info": {
   "codemirror_mode": {
    "name": "ipython",
    "version": 3
   },
   "file_extension": ".py",
   "mimetype": "text/x-python",
   "name": "python",
   "nbconvert_exporter": "python",
   "pygments_lexer": "ipython3",
   "version": "3.7.3"
  }
 },
 "nbformat": 4,
 "nbformat_minor": 1
}
