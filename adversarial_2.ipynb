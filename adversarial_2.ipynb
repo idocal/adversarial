{
 "cells": [
  {
   "cell_type": "markdown",
   "metadata": {},
   "source": [
    "# Imports"
   ]
  },
  {
   "cell_type": "code",
   "execution_count": 1,
   "metadata": {
    "colab": {
     "base_uri": "https://localhost:8080/",
     "height": 34
    },
    "colab_type": "code",
    "executionInfo": {
     "elapsed": 5753,
     "status": "ok",
     "timestamp": 1590600216102,
     "user": {
      "displayName": "Ido Calman",
      "photoUrl": "",
      "userId": "08425851212466799066"
     },
     "user_tz": -180
    },
    "id": "i3HiqylaUbhE",
    "outputId": "5a6439d4-d9e7-4a2c-ea29-ee0a5ca42164"
   },
   "outputs": [],
   "source": [
    "import tensorflow as tf\n",
    "import os\n",
    "import numpy as np\n",
    "import matplotlib.pyplot as plt\n",
    "import tensorflow as tf\n",
    "from tensorflow import keras\n",
    "from tensorflow.keras import layers\n",
    "import math\n",
    "\n",
    "# Enable inline plotting\n",
    "%matplotlib inline\n",
    "\n",
    "import warnings\n",
    "warnings.filterwarnings(\"ignore\", category=DeprecationWarning)\n",
    "warnings.filterwarnings(\"ignore\", category=FutureWarning)"
   ]
  },
  {
   "cell_type": "markdown",
   "metadata": {},
   "source": [
    "# Dataset"
   ]
  },
  {
   "cell_type": "code",
   "execution_count": 2,
   "metadata": {},
   "outputs": [],
   "source": [
    "''' Normalize input to the range of [0..1]\n",
    "    Apart from assisting in the convergance of the training process, this \n",
    "    will also make our lives easier during the adversarial attack process\n",
    "'''\n",
    "def normalize(x_train,x_test):\n",
    "    x_train -= x_train.min()\n",
    "    x_train /= x_train.max()\n",
    "    x_test -= x_test.min()\n",
    "    x_test /= x_test.max()\n",
    "    \n",
    "    return x_train, x_test"
   ]
  },
  {
   "cell_type": "code",
   "execution_count": 3,
   "metadata": {},
   "outputs": [],
   "source": [
    "# Load and prepare the datasets for training\n",
    "num_classes = 10\n",
    "\n",
    "img_rows, img_cols, img_colors = 28, 28, 1\n",
    "(train_images, train_labels), (test_images, test_labels) = keras.datasets.mnist.load_data()\n",
    "\n",
    "train_images = train_images.astype('float32')\n",
    "test_images = test_images.astype('float32')\n",
    "train_images = train_images.reshape(train_images.shape[0], img_rows, img_cols, 1)\n",
    "\n",
    "test_images = test_images.reshape(test_images.shape[0], img_rows, img_cols, 1)\n",
    "train_images, test_images = normalize(train_images, test_images)\n",
    "\n",
    "train_labels = keras.utils.to_categorical(train_labels, num_classes)\n",
    "test_labels = keras.utils.to_categorical(test_labels, num_classes)"
   ]
  },
  {
   "cell_type": "markdown",
   "metadata": {},
   "source": [
    "## 1. Defensive Distilation"
   ]
  },
  {
   "cell_type": "code",
   "execution_count": 39,
   "metadata": {},
   "outputs": [],
   "source": [
    "''' Build a simple MNIST classification CNN with Temperature\n",
    "    Model structure: Conv, Conv, Max pooling, Dropout, Dense, Dense, Temperature\n",
    "'''\n",
    "def build_mnist_temperature_model(n_classes, temp=30):\n",
    "    activation = 'relu'\n",
    "    # input image dimensions\n",
    "    img_rows, img_cols, img_colors = 28, 28, 1\n",
    "    \n",
    "    model = keras.Sequential()\n",
    "    model.add(layers.Conv2D(8, kernel_size=(3, 3), input_shape=(img_rows, img_cols, img_colors), activation=activation))\n",
    "    model.add(layers.Conv2D(8, (3, 3), activation=activation))\n",
    "    model.add(layers.MaxPooling2D(pool_size=(2, 2)))\n",
    "    model.add(layers.Dropout(0.25))\n",
    "    model.add(layers.Flatten())\n",
    "    model.add(layers.Dense(128, activation=activation))\n",
    "    model.add(layers.Dropout(0.5))\n",
    "    model.add(layers.Dense(n_classes, name='logits'))\n",
    "    model.add(layers.Lambda(lambda x: x / temp))\n",
    "    model.add(layers.Activation('softmax', name='y_pred'))\n",
    "              \n",
    "    return model"
   ]
  },
  {
   "cell_type": "code",
   "execution_count": 5,
   "metadata": {},
   "outputs": [],
   "source": [
    "def train_distillation(labels=None, temp=30):\n",
    "    # Train the model\n",
    "    batch_size = 128\n",
    "    maxepoches = 12\n",
    "    learning_rate = 0.1\n",
    "    lr_decay = 1e-6\n",
    "    lr_drop = 20\n",
    "    \n",
    "    # no labels indicate teacher network, use train labels\n",
    "    if labels is None:\n",
    "        labels = train_labels\n",
    "\n",
    "    sess = tf.Session()\n",
    "    keras.backend.set_session(sess)\n",
    "\n",
    "    def lr_scheduler(epoch):\n",
    "        return learning_rate * (0.5 ** (epoch // lr_drop))\n",
    "    reduce_lr = keras.callbacks.LearningRateScheduler(lr_scheduler)\n",
    "\n",
    "    model = build_mnist_temperature_model(num_classes, temp)\n",
    "\n",
    "    model.compile(loss='categorical_crossentropy',\n",
    "                  optimizer=keras.optimizers.Adadelta(),\n",
    "                  metrics=[keras.metrics.CategoricalAccuracy()])\n",
    "\n",
    "    history = model.fit(train_images, labels,\n",
    "                        batch_size=batch_size,\n",
    "                        epochs=maxepoches,\n",
    "                        verbose=1,\n",
    "                        validation_data=(test_images, test_labels),\n",
    "                        callbacks=[reduce_lr])\n",
    "    return model"
   ]
  },
  {
   "cell_type": "markdown",
   "metadata": {
    "colab_type": "text",
    "id": "tcXfxEieXAIl"
   },
   "source": [
    "## 2. CNN Model for MNIST Detection"
   ]
  },
  {
   "cell_type": "code",
   "execution_count": 6,
   "metadata": {
    "colab": {},
    "colab_type": "code",
    "id": "HwL7Wk4OUrda"
   },
   "outputs": [],
   "source": [
    "''' Build a simple MNIST classification CNN\n",
    "    The network takes ~3 minutes to train on a normal laptop and reaches roughly 97% of accuracy\n",
    "    Model structure: Conv, Conv, Max pooling, Dropout, Dense, Dense\n",
    "'''\n",
    "def build_mnist_model(n_classes=None):\n",
    "    activation = 'relu'\n",
    "    # input image dimensions\n",
    "    img_rows, img_cols, img_colors = 28, 28, 1\n",
    "    if n_classes is None:\n",
    "        n_classes = num_classes\n",
    "    \n",
    "    model = keras.Sequential()\n",
    "    model.add(layers.Conv2D(8, kernel_size=(3, 3), input_shape=(img_rows, img_cols, img_colors), activation=activation))\n",
    "    model.add(layers.Conv2D(8, (3, 3), activation=activation))\n",
    "    model.add(layers.MaxPooling2D(pool_size=(2, 2)))\n",
    "    model.add(layers.Dropout(0.25))\n",
    "    model.add(layers.Flatten())\n",
    "    model.add(layers.Dense(128, activation=activation))\n",
    "    model.add(layers.Dropout(0.5))\n",
    "    model.add(layers.Dense(n_classes, name='logits'))\n",
    "    model.add(layers.Activation('softmax', name='y_pred'))\n",
    "              \n",
    "    return model"
   ]
  },
  {
   "cell_type": "code",
   "execution_count": 7,
   "metadata": {
    "colab": {
     "base_uri": "https://localhost:8080/",
     "height": 513
    },
    "colab_type": "code",
    "executionInfo": {
     "elapsed": 337952,
     "status": "ok",
     "timestamp": 1590600550218,
     "user": {
      "displayName": "Ido Calman",
      "photoUrl": "",
      "userId": "08425851212466799066"
     },
     "user_tz": -180
    },
    "id": "4VjTmAGLU2CB",
    "outputId": "760b41ac-8171-4db4-e3c3-4024c1d03365"
   },
   "outputs": [],
   "source": [
    "def train_cnn(train_x=None, train_y=None, test_x=None, test_y=None, n_classes=None):\n",
    "    # Train the model\n",
    "    batch_size = 128\n",
    "    maxepoches = 12\n",
    "    learning_rate = 0.1\n",
    "    lr_decay = 1e-6\n",
    "    lr_drop = 20\n",
    "    \n",
    "    if train_x is None:\n",
    "        train_x = train_images\n",
    "    \n",
    "    if train_y is None:\n",
    "        train_y = train_labels\n",
    "        \n",
    "    if test_x is None:\n",
    "        test_x = test_images\n",
    "    \n",
    "    if test_y is None:\n",
    "        test_y = test_labels\n",
    "        \n",
    "    if n_classes is None:\n",
    "        n_classes = num_classes\n",
    "\n",
    "    sess = tf.Session()\n",
    "    keras.backend.set_session(sess)\n",
    "\n",
    "    def lr_scheduler(epoch):\n",
    "        return learning_rate * (0.5 ** (epoch // lr_drop))\n",
    "    reduce_lr = keras.callbacks.LearningRateScheduler(lr_scheduler)\n",
    "\n",
    "    model = build_mnist_model(n_classes=n_classes)\n",
    "\n",
    "    model.compile(loss='categorical_crossentropy',\n",
    "                  optimizer=keras.optimizers.Adadelta(),\n",
    "                  metrics=[keras.metrics.CategoricalAccuracy()])\n",
    "\n",
    "    history = model.fit(train_x, train_y,\n",
    "                        batch_size=batch_size,\n",
    "                        epochs=maxepoches,\n",
    "                        verbose=1,\n",
    "                        validation_data=(test_x, test_y),\n",
    "                        callbacks=[reduce_lr])\n",
    "    return model\n"
   ]
  },
  {
   "cell_type": "code",
   "execution_count": 8,
   "metadata": {},
   "outputs": [
    {
     "name": "stderr",
     "output_type": "stream",
     "text": [
      "WARNING: Logging before flag parsing goes to stderr.\n",
      "W0617 19:00:26.171215 4460811712 deprecation.py:506] From /usr/local/lib/python3.7/site-packages/tensorflow/python/ops/init_ops.py:1251: calling VarianceScaling.__init__ (from tensorflow.python.ops.init_ops) with dtype is deprecated and will be removed in a future version.\n",
      "Instructions for updating:\n",
      "Call initializer instance with the dtype argument instead of passing it to the constructor\n"
     ]
    },
    {
     "name": "stdout",
     "output_type": "stream",
     "text": [
      "Train on 60000 samples, validate on 10000 samples\n",
      "Epoch 1/12\n",
      "60000/60000 [==============================] - 14s 228us/sample - loss: 0.9881 - categorical_accuracy: 0.6765 - val_loss: 0.3279 - val_categorical_accuracy: 0.9104\n",
      "Epoch 2/12\n",
      "60000/60000 [==============================] - 13s 223us/sample - loss: 0.4772 - categorical_accuracy: 0.8511 - val_loss: 0.2388 - val_categorical_accuracy: 0.9333\n",
      "Epoch 3/12\n",
      "60000/60000 [==============================] - 14s 226us/sample - loss: 0.3808 - categorical_accuracy: 0.8842 - val_loss: 0.1913 - val_categorical_accuracy: 0.9473\n",
      "Epoch 4/12\n",
      "60000/60000 [==============================] - 13s 225us/sample - loss: 0.3192 - categorical_accuracy: 0.9029 - val_loss: 0.1606 - val_categorical_accuracy: 0.9547\n",
      "Epoch 5/12\n",
      "60000/60000 [==============================] - 14s 225us/sample - loss: 0.2792 - categorical_accuracy: 0.9157 - val_loss: 0.1388 - val_categorical_accuracy: 0.9598\n",
      "Epoch 6/12\n",
      "60000/60000 [==============================] - 13s 224us/sample - loss: 0.2497 - categorical_accuracy: 0.9251 - val_loss: 0.1239 - val_categorical_accuracy: 0.9633\n",
      "Epoch 7/12\n",
      "60000/60000 [==============================] - 14s 228us/sample - loss: 0.2283 - categorical_accuracy: 0.9317 - val_loss: 0.1120 - val_categorical_accuracy: 0.9674\n",
      "Epoch 8/12\n",
      "60000/60000 [==============================] - 13s 225us/sample - loss: 0.2138 - categorical_accuracy: 0.9349 - val_loss: 0.1035 - val_categorical_accuracy: 0.9689\n",
      "Epoch 9/12\n",
      "60000/60000 [==============================] - 14s 225us/sample - loss: 0.2004 - categorical_accuracy: 0.9405 - val_loss: 0.0962 - val_categorical_accuracy: 0.9703\n",
      "Epoch 10/12\n",
      "60000/60000 [==============================] - 13s 224us/sample - loss: 0.1846 - categorical_accuracy: 0.9445 - val_loss: 0.0894 - val_categorical_accuracy: 0.9724\n",
      "Epoch 11/12\n",
      "60000/60000 [==============================] - 14s 225us/sample - loss: 0.1781 - categorical_accuracy: 0.9470 - val_loss: 0.0846 - val_categorical_accuracy: 0.9745\n",
      "Epoch 12/12\n",
      "60000/60000 [==============================] - 14s 227us/sample - loss: 0.1707 - categorical_accuracy: 0.9483 - val_loss: 0.0811 - val_categorical_accuracy: 0.9747\n"
     ]
    }
   ],
   "source": [
    "cnn = train_cnn()"
   ]
  },
  {
   "cell_type": "markdown",
   "metadata": {
    "colab_type": "text",
    "id": "IZX91Mu6XNDZ"
   },
   "source": [
    "## Attack Utilities"
   ]
  },
  {
   "cell_type": "code",
   "execution_count": 9,
   "metadata": {},
   "outputs": [],
   "source": [
    "timages = tf.constant(test_images)\n",
    "tlabels = tf.constant(test_labels)\n",
    "\n",
    "# Choose random target classes per each instance in the test set\n",
    "target = (np.argmax(test_labels, axis=1) + np.random.randint(1, num_classes, size=(test_labels.shape[0]))) % num_classes\n",
    "target = keras.utils.to_categorical(target, num_classes)\n",
    "ttarget = tf.constant(target)"
   ]
  },
  {
   "cell_type": "code",
   "execution_count": 10,
   "metadata": {
    "colab": {},
    "colab_type": "code",
    "id": "rCnTbDAfXSn7"
   },
   "outputs": [],
   "source": [
    "''' A simple utility funcion for evaluating the success of an attack\n",
    "'''\n",
    "def TestAttack(model, adv_images, orig_images, true_labels, target_labels=None, targeted=False):\n",
    "    score = model.evaluate(adv_images, true_labels, verbose=0)\n",
    "    print('Test loss: {:.2f}'.format(score[0]))\n",
    "    print('Successfully moved out of source class: {:.2f}'.format( 1 - score[1]))\n",
    "    \n",
    "    if targeted:\n",
    "        score = model.evaluate(adv_images, target_labels, verbose=0)\n",
    "        print('Test loss: {:.2f}'.format(score[0]))\n",
    "        print('Successfully perturbed to target class: {:.2f}'.format(score[1]))\n",
    "    \n",
    "    dist = np.mean(np.sqrt(np.mean(np.square(adv_images - orig_images), axis=(1,2,3))))\n",
    "    print('Mean perturbation distance: {:.2f}'.format(dist))\n",
    "    \n",
    "    index = 3\n",
    "    img = adv_images[index].reshape(28, 28)\n",
    "    plt.imshow(img, cmap='gray')\n",
    "    plt.show()\n",
    "    \n",
    "    ret_score = score[1] if targeted else 1 - score[1]\n",
    "    return ret_score, dist"
   ]
  },
  {
   "cell_type": "markdown",
   "metadata": {
    "colab_type": "text",
    "id": "IoNpZ9V2XnPx"
   },
   "source": [
    "## 3. FGSM, TGSM and PGD Attacks on CNN Model"
   ]
  },
  {
   "cell_type": "code",
   "execution_count": 11,
   "metadata": {
    "colab": {},
    "colab_type": "code",
    "id": "P2CpRwsZXT_s"
   },
   "outputs": [],
   "source": [
    "''' Fast Gradient Sign Method implementation - perturb all input features by an epsilon sized step in \n",
    "    the direction of loss gradient\n",
    "'''\n",
    "def FGSM(model, images, labels, epsilon=0.3):  \n",
    "    adv_loss = keras.losses.categorical_crossentropy(labels, model(images))\n",
    "    grads_wrt_input, = keras.backend.gradients(adv_loss, images)\n",
    "    sign_grads = keras.backend.sign(grads_wrt_input)\n",
    "    \n",
    "    delta = epsilon * sign_grads\n",
    "    images_adv  = images + delta\n",
    "    \n",
    "    return images_adv"
   ]
  },
  {
   "cell_type": "code",
   "execution_count": 12,
   "metadata": {},
   "outputs": [],
   "source": [
    "''' Targeted Gradient Sign Method implementation - A targeted variant of the FGSM attack\n",
    "    here we minimize the loss with respect to the target class, as opposed to maximizing the loss with respect\n",
    "    to the source class\n",
    "'''\n",
    "def TGSM(model, images, target, epsilon=0.3):\n",
    "    adv_loss = keras.losses.categorical_crossentropy(target, model(images))\n",
    "    grads_wrt_input, = keras.backend.gradients(adv_loss, images)\n",
    "    sign_grads = keras.backend.sign(grads_wrt_input)\n",
    "    \n",
    "    delta = epsilon * sign_grads\n",
    "    images_adv  = images - delta    \n",
    "    \n",
    "    return images_adv"
   ]
  },
  {
   "cell_type": "code",
   "execution_count": 13,
   "metadata": {},
   "outputs": [],
   "source": [
    "def PGD(model, images, labels, epsilon=4.0, iter_eps=0.05, iterations=30, min_x=0.0, max_x=1.0, targeted=False):\n",
    "    # support batch  pertrubation\n",
    "    adv_out = images\n",
    "    \n",
    "    # loop stop condition\n",
    "    cond = lambda i, _: tf.less(i, iterations)\n",
    "    \n",
    "    # loop body\n",
    "    def body(i, adv_out):\n",
    "        # support targeted and untargeted\n",
    "        if targeted:\n",
    "            adv_out = TGSM(model, adv_out, labels, epsilon=iter_eps)  # different eps constants\n",
    "        else:\n",
    "            adv_out = FGSM(model, adv_out, labels, epsilon=iter_eps)  # different eps constants\n",
    "\n",
    "        perturbation = adv_out - images\n",
    "        # clip to allowed epsilon radius\n",
    "        norm = tf.reduce_sum(tf.square(perturbation), axis=(1,2,3), keepdims=True)\n",
    "        norm = tf.sqrt(tf.maximum(1e-11, norm))  # assure numerical stability\n",
    "        factor = tf.minimum(1., tf.math.divide(epsilon, norm))  # perform projection when exceeding radius\n",
    "        adv_out = images + perturbation * factor\n",
    "        adv_out = tf.clip_by_value(adv_out, min_x, max_x)  # clip outputs to allowed values\n",
    "        \n",
    "        return i+1, adv_out\n",
    "    \n",
    "    _, adv_out = tf.while_loop(cond, body, (tf.zeros([]), adv_out), back_prop=True,\n",
    "                             maximum_iterations=iterations)\n",
    "    \n",
    "    return adv_out"
   ]
  },
  {
   "cell_type": "code",
   "execution_count": 14,
   "metadata": {},
   "outputs": [],
   "source": [
    "def attack(model):\n",
    "    scores = {}\n",
    "    sess = keras.backend.get_session()\n",
    "    \n",
    "    # FGSM attack\n",
    "    fgsm_images_adv = FGSM(model, timages, tlabels)\n",
    "    fgsm_out = sess.run(fgsm_images_adv)\n",
    "    scores['fgsm'] = TestAttack(model, fgsm_out, test_images, test_labels, target, targeted=False)\n",
    "    \n",
    "    # TGSM attack\n",
    "    tgsm_images_adv = TGSM(model, timages, ttarget)\n",
    "    tgsm_out = sess.run(tgsm_images_adv)\n",
    "    scores['tgsm'] = TestAttack(model, tgsm_out, test_images, test_labels, target, targeted=True)\n",
    "    \n",
    "    # PGD attack\n",
    "    pgd_images_adv = PGD(model, timages, tlabels)\n",
    "    pgd_out = sess.run(pgd_images_adv)\n",
    "    scores['pgd'] = TestAttack(model, pgd_out, test_images, test_labels, target, targeted=False)\n",
    "    \n",
    "    # PGD targeted attack\n",
    "    pgd_t_images_adv = PGD(model, timages, ttarget, targeted=True)\n",
    "    pgd_t_out = sess.run(pgd_t_images_adv)\n",
    "    scores['pgd_targeted'] = TestAttack(model, pgd_t_out, test_images, test_labels, target, targeted=True)\n",
    "    \n",
    "    return scores"
   ]
  },
  {
   "cell_type": "code",
   "execution_count": 15,
   "metadata": {},
   "outputs": [
    {
     "name": "stdout",
     "output_type": "stream",
     "text": [
      "Test loss: 4.49\n",
      "Successfully moved out of source class: 0.95\n",
      "Mean perturbation distance: 0.29\n"
     ]
    },
    {
     "data": {
      "image/png": "[encoded data removed]",
      "text/plain": [
       "<Figure size 432x288 with 1 Axes>"
      ]
     },
     "metadata": {
      "needs_background": "light"
     },
     "output_type": "display_data"
    },
    {
     "name": "stdout",
     "output_type": "stream",
     "text": [
      "Test loss: 3.48\n",
      "Successfully moved out of source class: 0.88\n",
      "Test loss: 1.40\n",
      "Successfully perturbed to target class: 0.53\n",
      "Mean perturbation distance: 0.29\n"
     ]
    },
    {
     "data": {
      "image/png": "[encoded data removed]",
      "text/plain": [
       "<Figure size 432x288 with 1 Axes>"
      ]
     },
     "metadata": {
      "needs_background": "light"
     },
     "output_type": "display_data"
    },
    {
     "name": "stdout",
     "output_type": "stream",
     "text": [
      "Test loss: 5.20\n",
      "Successfully moved out of source class: 0.96\n",
      "Mean perturbation distance: 0.14\n"
     ]
    },
    {
     "data": {
      "image/png": "[encoded data removed]",
      "text/plain": [
       "<Figure size 432x288 with 1 Axes>"
      ]
     },
     "metadata": {
      "needs_background": "light"
     },
     "output_type": "display_data"
    },
    {
     "name": "stdout",
     "output_type": "stream",
     "text": [
      "Test loss: 2.67\n",
      "Successfully moved out of source class: 0.72\n",
      "Test loss: 0.98\n",
      "Successfully perturbed to target class: 0.69\n",
      "Mean perturbation distance: 0.14\n"
     ]
    },
    {
     "data": {
      "image/png": "[encoded data removed]",
      "text/plain": [
       "<Figure size 432x288 with 1 Axes>"
      ]
     },
     "metadata": {
      "needs_background": "light"
     },
     "output_type": "display_data"
    }
   ],
   "source": [
    "cnn_results = attack(cnn)"
   ]
  },
  {
   "cell_type": "markdown",
   "metadata": {},
   "source": [
    "## 4. Train Defensive Distilled Model"
   ]
  },
  {
   "cell_type": "code",
   "execution_count": 16,
   "metadata": {},
   "outputs": [
    {
     "name": "stdout",
     "output_type": "stream",
     "text": [
      "Train on 60000 samples, validate on 10000 samples\n",
      "Epoch 1/12\n",
      "60000/60000 [==============================] - 14s 231us/sample - loss: 1.6809 - categorical_accuracy: 0.4664 - val_loss: 0.4752 - val_categorical_accuracy: 0.8748\n",
      "Epoch 2/12\n",
      "60000/60000 [==============================] - 14s 225us/sample - loss: 0.5918 - categorical_accuracy: 0.8147 - val_loss: 0.3334 - val_categorical_accuracy: 0.9055\n",
      "Epoch 3/12\n",
      "60000/60000 [==============================] - 14s 225us/sample - loss: 0.4938 - categorical_accuracy: 0.8482 - val_loss: 0.2901 - val_categorical_accuracy: 0.9184\n",
      "Epoch 4/12\n",
      "60000/60000 [==============================] - 14s 225us/sample - loss: 0.4507 - categorical_accuracy: 0.8604 - val_loss: 0.2660 - val_categorical_accuracy: 0.9241\n",
      "Epoch 5/12\n",
      "60000/60000 [==============================] - 14s 226us/sample - loss: 0.4202 - categorical_accuracy: 0.8701 - val_loss: 0.2456 - val_categorical_accuracy: 0.9277\n",
      "Epoch 6/12\n",
      "60000/60000 [==============================] - 14s 225us/sample - loss: 0.3971 - categorical_accuracy: 0.8802 - val_loss: 0.2292 - val_categorical_accuracy: 0.9333\n",
      "Epoch 7/12\n",
      "60000/60000 [==============================] - 14s 226us/sample - loss: 0.3804 - categorical_accuracy: 0.8848 - val_loss: 0.2153 - val_categorical_accuracy: 0.9374\n",
      "Epoch 8/12\n",
      "60000/60000 [==============================] - 14s 226us/sample - loss: 0.3696 - categorical_accuracy: 0.8879 - val_loss: 0.2056 - val_categorical_accuracy: 0.9406\n",
      "Epoch 9/12\n",
      "60000/60000 [==============================] - 14s 227us/sample - loss: 0.3517 - categorical_accuracy: 0.8927 - val_loss: 0.1952 - val_categorical_accuracy: 0.9436\n",
      "Epoch 10/12\n",
      "60000/60000 [==============================] - 13s 225us/sample - loss: 0.3369 - categorical_accuracy: 0.8970 - val_loss: 0.1882 - val_categorical_accuracy: 0.9444\n",
      "Epoch 11/12\n",
      "60000/60000 [==============================] - 14s 226us/sample - loss: 0.3298 - categorical_accuracy: 0.8997 - val_loss: 0.1824 - val_categorical_accuracy: 0.9471\n",
      "Epoch 12/12\n",
      "60000/60000 [==============================] - 14s 227us/sample - loss: 0.3174 - categorical_accuracy: 0.9028 - val_loss: 0.1781 - val_categorical_accuracy: 0.9482\n"
     ]
    }
   ],
   "source": [
    "teacher = train_distillation()"
   ]
  },
  {
   "cell_type": "code",
   "execution_count": 17,
   "metadata": {},
   "outputs": [
    {
     "name": "stdout",
     "output_type": "stream",
     "text": [
      "Train on 60000 samples, validate on 10000 samples\n",
      "Epoch 1/12\n",
      "60000/60000 [==============================] - 15s 250us/sample - loss: 2.1967 - categorical_accuracy: 0.2670 - val_loss: 1.1275 - val_categorical_accuracy: 0.7664\n",
      "Epoch 2/12\n",
      "60000/60000 [==============================] - 14s 237us/sample - loss: 0.7209 - categorical_accuracy: 0.7789 - val_loss: 0.3708 - val_categorical_accuracy: 0.8954\n",
      "Epoch 3/12\n",
      "60000/60000 [==============================] - 14s 231us/sample - loss: 0.5197 - categorical_accuracy: 0.8542 - val_loss: 0.3213 - val_categorical_accuracy: 0.9077\n",
      "Epoch 4/12\n",
      "60000/60000 [==============================] - 14s 233us/sample - loss: 0.4709 - categorical_accuracy: 0.8741 - val_loss: 0.2982 - val_categorical_accuracy: 0.9159\n",
      "Epoch 5/12\n",
      "60000/60000 [==============================] - 14s 233us/sample - loss: 0.4451 - categorical_accuracy: 0.8841 - val_loss: 0.2776 - val_categorical_accuracy: 0.9200\n",
      "Epoch 6/12\n",
      "60000/60000 [==============================] - 15s 248us/sample - loss: 0.4250 - categorical_accuracy: 0.8949 - val_loss: 0.2672 - val_categorical_accuracy: 0.9243\n",
      "Epoch 7/12\n",
      "60000/60000 [==============================] - 14s 233us/sample - loss: 0.4118 - categorical_accuracy: 0.8998 - val_loss: 0.2593 - val_categorical_accuracy: 0.9267\n",
      "Epoch 8/12\n",
      "60000/60000 [==============================] - 14s 235us/sample - loss: 0.3994 - categorical_accuracy: 0.9054 - val_loss: 0.2489 - val_categorical_accuracy: 0.9288\n",
      "Epoch 9/12\n",
      "60000/60000 [==============================] - 15s 242us/sample - loss: 0.3903 - categorical_accuracy: 0.9093 - val_loss: 0.2461 - val_categorical_accuracy: 0.9284\n",
      "Epoch 10/12\n",
      "60000/60000 [==============================] - 15s 243us/sample - loss: 0.3809 - categorical_accuracy: 0.9145 - val_loss: 0.2384 - val_categorical_accuracy: 0.9310\n",
      "Epoch 11/12\n",
      "60000/60000 [==============================] - 15s 243us/sample - loss: 0.3781 - categorical_accuracy: 0.9160 - val_loss: 0.2344 - val_categorical_accuracy: 0.9334\n",
      "Epoch 12/12\n",
      "60000/60000 [==============================] - 15s 243us/sample - loss: 0.3719 - categorical_accuracy: 0.9186 - val_loss: 0.2309 - val_categorical_accuracy: 0.9336\n"
     ]
    }
   ],
   "source": [
    "teacher_labels = teacher.predict(train_images)\n",
    "student = train_distillation(labels=teacher_labels)"
   ]
  },
  {
   "cell_type": "code",
   "execution_count": 18,
   "metadata": {},
   "outputs": [],
   "source": [
    "student_inference = build_mnist_model()\n",
    "student_inference.set_weights(student.get_weights())\n",
    "student_inference.compile(loss='categorical_crossentropy',\n",
    "                          optimizer=keras.optimizers.Adadelta(),\n",
    "                          metrics=[keras.metrics.CategoricalAccuracy()])"
   ]
  },
  {
   "cell_type": "markdown",
   "metadata": {},
   "source": [
    "## 5. FGSM, TGSM and PGD Attacks on Distilled Model"
   ]
  },
  {
   "cell_type": "code",
   "execution_count": 19,
   "metadata": {},
   "outputs": [
    {
     "name": "stdout",
     "output_type": "stream",
     "text": [
      "Test loss: 58.32\n",
      "Successfully moved out of source class: 0.28\n",
      "Mean perturbation distance: 0.09\n"
     ]
    },
    {
     "data": {
      "image/png": "[encoded data removed]",
      "text/plain": [
       "<Figure size 432x288 with 1 Axes>"
      ]
     },
     "metadata": {
      "needs_background": "light"
     },
     "output_type": "display_data"
    },
    {
     "name": "stdout",
     "output_type": "stream",
     "text": [
      "Test loss: 108.41\n",
      "Successfully moved out of source class: 0.90\n",
      "Test loss: 27.91\n",
      "Successfully perturbed to target class: 0.54\n",
      "Mean perturbation distance: 0.29\n"
     ]
    },
    {
     "data": {
      "image/png": "[encoded data removed]",
      "text/plain": [
       "<Figure size 432x288 with 1 Axes>"
      ]
     },
     "metadata": {
      "needs_background": "light"
     },
     "output_type": "display_data"
    },
    {
     "name": "stdout",
     "output_type": "stream",
     "text": [
      "Test loss: 59.35\n",
      "Successfully moved out of source class: 0.29\n",
      "Mean perturbation distance: 0.04\n"
     ]
    },
    {
     "data": {
      "image/png": "[encoded data removed]",
      "text/plain": [
       "<Figure size 432x288 with 1 Axes>"
      ]
     },
     "metadata": {
      "needs_background": "light"
     },
     "output_type": "display_data"
    },
    {
     "name": "stdout",
     "output_type": "stream",
     "text": [
      "Test loss: 26.15\n",
      "Successfully moved out of source class: 0.68\n",
      "Test loss: 28.54\n",
      "Successfully perturbed to target class: 0.60\n",
      "Mean perturbation distance: 0.14\n"
     ]
    },
    {
     "data": {
      "image/png": "[encoded data removed]",
      "text/plain": [
       "<Figure size 432x288 with 1 Axes>"
      ]
     },
     "metadata": {
      "needs_background": "light"
     },
     "output_type": "display_data"
    }
   ],
   "source": [
    "distilled_results = attack(student_inference)"
   ]
  },
  {
   "cell_type": "markdown",
   "metadata": {},
   "source": [
    "## 6. Binary Distilled Classifier"
   ]
  },
  {
   "cell_type": "code",
   "execution_count": 20,
   "metadata": {},
   "outputs": [],
   "source": [
    "binary_classes = list(np.random.choice(num_classes, 2, replace=False))"
   ]
  },
  {
   "cell_type": "code",
   "execution_count": 21,
   "metadata": {},
   "outputs": [],
   "source": [
    "def to_one_hot(num):\n",
    "    x = np.zeros(num_classes)\n",
    "    x[num] = 1\n",
    "    return x"
   ]
  },
  {
   "cell_type": "code",
   "execution_count": 22,
   "metadata": {},
   "outputs": [],
   "source": [
    "negative_class = to_one_hot(binary_classes[0])\n",
    "positive_class = to_one_hot(binary_classes[1])\n",
    "\n",
    "negative_train_indices = (train_labels == negative_class).all(axis=1).nonzero()\n",
    "positive_train_indices = (train_labels == positive_class).all(axis=1).nonzero()\n",
    "negative_test_indices = (test_labels == negative_class).all(axis=1).nonzero()\n",
    "positive_test_indices = (test_labels == positive_class).all(axis=1).nonzero()\n",
    "\n",
    "negative_train_images = train_images[negative_train_indices]\n",
    "positive_train_images = train_images[positive_train_indices]\n",
    "negative_test_images = test_images[negative_test_indices]\n",
    "positive_test_images = test_images[positive_test_indices]"
   ]
  },
  {
   "cell_type": "code",
   "execution_count": 23,
   "metadata": {},
   "outputs": [],
   "source": [
    "num_train_negatives = len(negative_train_images)\n",
    "num_train_positives = len(positive_train_images)\n",
    "num_test_negatives = len(negative_test_images)\n",
    "num_test_positives = len(positive_test_images)\n",
    "\n",
    "binary_train_labels = np.zeros((num_train_negatives + num_train_positives, 2))\n",
    "binary_train_labels[:num_train_negatives] = np.array([1., 0.])\n",
    "binary_train_labels[num_train_negatives:] = np.array([0., 1.])\n",
    "binary_test_labels = np.zeros((num_test_negatives + num_test_positives, 2))\n",
    "binary_test_labels[:num_test_negatives] = np.array([1., 0.])\n",
    "binary_test_labels[num_test_negatives:] = np.array([0., 1.])\n",
    "\n",
    "binary_train_images = np.concatenate((negative_train_images, positive_train_images))\n",
    "binary_test_images = np.concatenate((negative_test_images, positive_test_images))"
   ]
  },
  {
   "cell_type": "code",
   "execution_count": 24,
   "metadata": {},
   "outputs": [],
   "source": [
    "# shuffle training samples\n",
    "p = np.random.permutation(num_train_negatives + num_train_positives)\n",
    "binary_train_images = binary_train_images[p]\n",
    "binary_train_labels = binary_train_labels[p]\n",
    "\n",
    "# shuffle test samples\n",
    "q = np.random.permutation(num_test_negatives + num_test_positives)\n",
    "binary_test_images = binary_test_images[q]\n",
    "binary_test_labels = binary_test_labels[q]"
   ]
  },
  {
   "cell_type": "code",
   "execution_count": 25,
   "metadata": {},
   "outputs": [],
   "source": [
    "def train_binary_distillation(labels=None, temp=30):\n",
    "    # Train the model\n",
    "    batch_size = 128\n",
    "    maxepoches = 12\n",
    "    learning_rate = 0.1\n",
    "    lr_decay = 1e-6\n",
    "    lr_drop = 20\n",
    "    n_classes = 2\n",
    "    \n",
    "    # no labels indicate teacher network, use train labels\n",
    "    if labels is None:\n",
    "        labels = binary_train_labels\n",
    "\n",
    "    sess = tf.Session()\n",
    "    keras.backend.set_session(sess)\n",
    "\n",
    "    def lr_scheduler(epoch):\n",
    "        return learning_rate * (0.5 ** (epoch // lr_drop))\n",
    "    reduce_lr = keras.callbacks.LearningRateScheduler(lr_scheduler)\n",
    "\n",
    "    model = build_mnist_temperature_model(n_classes, temp)\n",
    "\n",
    "    model.compile(loss='categorical_crossentropy',\n",
    "                  optimizer=keras.optimizers.Adadelta(),\n",
    "                  metrics=[keras.metrics.CategoricalAccuracy()])\n",
    "\n",
    "    history = model.fit(binary_train_images, binary_train_labels,\n",
    "                        batch_size=batch_size,\n",
    "                        epochs=maxepoches,\n",
    "                        verbose=1,\n",
    "                        validation_data=(binary_test_images, binary_test_labels),\n",
    "                        callbacks=[reduce_lr])\n",
    "    return model"
   ]
  },
  {
   "cell_type": "code",
   "execution_count": 41,
   "metadata": {},
   "outputs": [
    {
     "name": "stdout",
     "output_type": "stream",
     "text": [
      "Train on 12054 samples, validate on 1990 samples\n",
      "Epoch 1/12\n",
      "12054/12054 [==============================] - 3s 288us/sample - loss: 0.6925 - categorical_accuracy: 0.5828 - val_loss: 0.6913 - val_categorical_accuracy: 0.8447\n",
      "Epoch 2/12\n",
      "12054/12054 [==============================] - 3s 274us/sample - loss: 0.6893 - categorical_accuracy: 0.7725 - val_loss: 0.6847 - val_categorical_accuracy: 0.9693\n",
      "Epoch 3/12\n",
      "12054/12054 [==============================] - 3s 276us/sample - loss: 0.6656 - categorical_accuracy: 0.8981 - val_loss: 0.5983 - val_categorical_accuracy: 0.9779\n",
      "Epoch 4/12\n",
      "12054/12054 [==============================] - 3s 269us/sample - loss: 0.3244 - categorical_accuracy: 0.9491 - val_loss: 0.0767 - val_categorical_accuracy: 0.9879\n",
      "Epoch 5/12\n",
      "12054/12054 [==============================] - 3s 283us/sample - loss: 0.0924 - categorical_accuracy: 0.9710 - val_loss: 0.0330 - val_categorical_accuracy: 0.9920\n",
      "Epoch 6/12\n",
      "12054/12054 [==============================] - 3s 288us/sample - loss: 0.0654 - categorical_accuracy: 0.9783 - val_loss: 0.0232 - val_categorical_accuracy: 0.9940\n",
      "Epoch 7/12\n",
      "12054/12054 [==============================] - 4s 295us/sample - loss: 0.0537 - categorical_accuracy: 0.9822 - val_loss: 0.0193 - val_categorical_accuracy: 0.9935\n",
      "Epoch 8/12\n",
      "12054/12054 [==============================] - 3s 286us/sample - loss: 0.0518 - categorical_accuracy: 0.9830 - val_loss: 0.0169 - val_categorical_accuracy: 0.9935\n",
      "Epoch 9/12\n",
      "12054/12054 [==============================] - 3s 286us/sample - loss: 0.0481 - categorical_accuracy: 0.9836 - val_loss: 0.0161 - val_categorical_accuracy: 0.9940\n",
      "Epoch 10/12\n",
      "12054/12054 [==============================] - 3s 284us/sample - loss: 0.0472 - categorical_accuracy: 0.9841 - val_loss: 0.0152 - val_categorical_accuracy: 0.9950\n",
      "Epoch 11/12\n",
      "12054/12054 [==============================] - 3s 290us/sample - loss: 0.0438 - categorical_accuracy: 0.9844 - val_loss: 0.0142 - val_categorical_accuracy: 0.9945\n",
      "Epoch 12/12\n",
      "12054/12054 [==============================] - 3s 290us/sample - loss: 0.0419 - categorical_accuracy: 0.9856 - val_loss: 0.0135 - val_categorical_accuracy: 0.9955\n"
     ]
    }
   ],
   "source": [
    "binary_teacher = train_binary_distillation()"
   ]
  },
  {
   "cell_type": "code",
   "execution_count": 42,
   "metadata": {},
   "outputs": [
    {
     "name": "stdout",
     "output_type": "stream",
     "text": [
      "Train on 12054 samples, validate on 1990 samples\n",
      "Epoch 1/12\n",
      "12054/12054 [==============================] - 4s 297us/sample - loss: 0.6874 - categorical_accuracy: 0.7112 - val_loss: 0.6739 - val_categorical_accuracy: 0.9653\n",
      "Epoch 2/12\n",
      "12054/12054 [==============================] - 3s 285us/sample - loss: 0.5759 - categorical_accuracy: 0.9212 - val_loss: 0.2723 - val_categorical_accuracy: 0.9814\n",
      "Epoch 3/12\n",
      "12054/12054 [==============================] - 3s 286us/sample - loss: 0.1466 - categorical_accuracy: 0.9652 - val_loss: 0.0464 - val_categorical_accuracy: 0.9899\n",
      "Epoch 4/12\n",
      "12054/12054 [==============================] - 3s 283us/sample - loss: 0.0713 - categorical_accuracy: 0.9771 - val_loss: 0.0276 - val_categorical_accuracy: 0.9930\n",
      "Epoch 5/12\n",
      "12054/12054 [==============================] - 3s 288us/sample - loss: 0.0580 - categorical_accuracy: 0.9809 - val_loss: 0.0209 - val_categorical_accuracy: 0.9935\n",
      "Epoch 6/12\n",
      "12054/12054 [==============================] - 3s 279us/sample - loss: 0.0473 - categorical_accuracy: 0.9842 - val_loss: 0.0174 - val_categorical_accuracy: 0.9935\n",
      "Epoch 7/12\n",
      "12054/12054 [==============================] - 3s 280us/sample - loss: 0.0459 - categorical_accuracy: 0.9839 - val_loss: 0.0161 - val_categorical_accuracy: 0.9950\n",
      "Epoch 8/12\n",
      "12054/12054 [==============================] - 3s 277us/sample - loss: 0.0443 - categorical_accuracy: 0.9852 - val_loss: 0.0150 - val_categorical_accuracy: 0.9950\n",
      "Epoch 9/12\n",
      "12054/12054 [==============================] - 3s 278us/sample - loss: 0.0395 - categorical_accuracy: 0.9856 - val_loss: 0.0142 - val_categorical_accuracy: 0.9950\n",
      "Epoch 10/12\n",
      "12054/12054 [==============================] - 4s 293us/sample - loss: 0.0384 - categorical_accuracy: 0.9874 - val_loss: 0.0136 - val_categorical_accuracy: 0.9950\n",
      "Epoch 11/12\n",
      "12054/12054 [==============================] - 4s 294us/sample - loss: 0.0378 - categorical_accuracy: 0.9864 - val_loss: 0.0129 - val_categorical_accuracy: 0.9965\n",
      "Epoch 12/12\n",
      "12054/12054 [==============================] - 3s 289us/sample - loss: 0.0357 - categorical_accuracy: 0.9881 - val_loss: 0.0123 - val_categorical_accuracy: 0.9970\n"
     ]
    }
   ],
   "source": [
    "binary_teacher_labels = binary_teacher.predict(binary_test_images)\n",
    "binary_student = train_binary_distillation(labels=binary_teacher_labels)"
   ]
  },
  {
   "cell_type": "code",
   "execution_count": 44,
   "metadata": {},
   "outputs": [],
   "source": [
    "binary_student_inference = build_mnist_model(n_classes=2)\n",
    "binary_student_inference.set_weights(binary_student.get_weights())\n",
    "binary_student_inference.compile(loss='categorical_crossentropy',\n",
    "                          optimizer=keras.optimizers.Adadelta(),\n",
    "                          metrics=[keras.metrics.CategoricalAccuracy()])"
   ]
  },
  {
   "cell_type": "code",
   "execution_count": 29,
   "metadata": {},
   "outputs": [],
   "source": [
    "timages_binary = tf.constant(binary_test_images)\n",
    "tlabels_binary = tf.constant(binary_test_labels)"
   ]
  },
  {
   "cell_type": "code",
   "execution_count": 67,
   "metadata": {},
   "outputs": [],
   "source": [
    "opposite_binary_labels = np.ones(binary_test_labels.shape) - binary_test_labels\n",
    "topposite_binary_labels = tf.constant(opposite_binary_labels)"
   ]
  },
  {
   "cell_type": "code",
   "execution_count": 72,
   "metadata": {},
   "outputs": [],
   "source": [
    "def binary_attack(model):\n",
    "    scores = {}\n",
    "    sess = keras.backend.get_session()\n",
    "    \n",
    "    # FGSM attack\n",
    "    fgsm_images_adv = FGSM(model, timages_binary, tlabels_binary)\n",
    "    fgsm_out = sess.run(fgsm_images_adv)\n",
    "    scores['fgsm'] = TestAttack(model, fgsm_out, binary_test_images, binary_test_labels, _, targeted=False)\n",
    "    \n",
    "    # TGSM attack\n",
    "    tgsm_images_adv = TGSM(model, timages_binary, topposite_binary_labels)\n",
    "    tgsm_out = sess.run(tgsm_images_adv)\n",
    "    scores['tgsm'] = TestAttack(model, tgsm_out, binary_test_images, binary_test_labels, opposite_binary_labels, targeted=True)\n",
    "    \n",
    "    # PGD attack\n",
    "    pgd_images_adv = PGD(model, timages_binary, tlabels_binary)\n",
    "    pgd_out = sess.run(pgd_images_adv)\n",
    "    scores['pgd'] = TestAttack(model, pgd_out, binary_test_images, binary_test_labels, _, targeted=False)\n",
    "    \n",
    "    # PGD targeted attack\n",
    "    pgd_t_images_adv = PGD(model, timages_binary, topposite_binary_labels, targeted=True)\n",
    "    pgd_t_out = sess.run(pgd_t_images_adv)\n",
    "    scores['pgd_targeted'] = TestAttack(model, pgd_t_out, binary_test_images, binary_test_labels, opposite_binary_labels, targeted=True)\n",
    "    \n",
    "    return scores"
   ]
  },
  {
   "cell_type": "code",
   "execution_count": 73,
   "metadata": {},
   "outputs": [
    {
     "name": "stdout",
     "output_type": "stream",
     "text": [
      "Test loss: 7.05\n",
      "Successfully moved out of source class: 0.03\n",
      "Mean perturbation distance: 0.01\n"
     ]
    },
    {
     "data": {
      "image/png": "[encoded data removed]",
      "text/plain": [
       "<Figure size 432x288 with 1 Axes>"
      ]
     },
     "metadata": {
      "needs_background": "light"
     },
     "output_type": "display_data"
    },
    {
     "name": "stdout",
     "output_type": "stream",
     "text": [
      "Test loss: 114.82\n",
      "Successfully moved out of source class: 0.88\n",
      "Test loss: 4.99\n",
      "Successfully perturbed to target class: 0.88\n",
      "Mean perturbation distance: 0.29\n"
     ]
    },
    {
     "data": {
      "image/png": "[encoded data removed]",
      "text/plain": [
       "<Figure size 432x288 with 1 Axes>"
      ]
     },
     "metadata": {
      "needs_background": "light"
     },
     "output_type": "display_data"
    },
    {
     "name": "stdout",
     "output_type": "stream",
     "text": [
      "Test loss: 5.21\n",
      "Successfully moved out of source class: 0.03\n",
      "Mean perturbation distance: 0.00\n"
     ]
    },
    {
     "data": {
      "image/png": "[encoded data removed]",
      "text/plain": [
       "<Figure size 432x288 with 1 Axes>"
      ]
     },
     "metadata": {
      "needs_background": "light"
     },
     "output_type": "display_data"
    },
    {
     "name": "stdout",
     "output_type": "stream",
     "text": [
      "Test loss: 31.22\n",
      "Successfully moved out of source class: 0.48\n",
      "Test loss: 41.02\n",
      "Successfully perturbed to target class: 0.48\n",
      "Mean perturbation distance: 0.14\n"
     ]
    },
    {
     "data": {
      "image/png": "[encoded data removed]",
      "text/plain": [
       "<Figure size 432x288 with 1 Axes>"
      ]
     },
     "metadata": {
      "needs_background": "light"
     },
     "output_type": "display_data"
    }
   ],
   "source": [
    "binary_distilled_results = binary_attack(binary_student_inference)"
   ]
  },
  {
   "cell_type": "markdown",
   "metadata": {},
   "source": [
    "## 7. Visualize Distillation"
   ]
  },
  {
   "cell_type": "code",
   "execution_count": 32,
   "metadata": {},
   "outputs": [],
   "source": [
    "import matplotlib.lines as mlines\n",
    "import matplotlib.transforms as mtransforms"
   ]
  },
  {
   "cell_type": "code",
   "execution_count": 33,
   "metadata": {},
   "outputs": [
    {
     "name": "stdout",
     "output_type": "stream",
     "text": [
      "Train on 12054 samples, validate on 1990 samples\n",
      "Epoch 1/12\n",
      "12054/12054 [==============================] - 4s 304us/sample - loss: 0.3614 - categorical_accuracy: 0.8667 - val_loss: 0.0592 - val_categorical_accuracy: 0.9899\n",
      "Epoch 2/12\n",
      "12054/12054 [==============================] - 3s 264us/sample - loss: 0.0771 - categorical_accuracy: 0.9761 - val_loss: 0.0237 - val_categorical_accuracy: 0.9935\n",
      "Epoch 3/12\n",
      "12054/12054 [==============================] - 3s 264us/sample - loss: 0.0548 - categorical_accuracy: 0.9811 - val_loss: 0.0183 - val_categorical_accuracy: 0.9945\n",
      "Epoch 4/12\n",
      "12054/12054 [==============================] - 3s 267us/sample - loss: 0.0494 - categorical_accuracy: 0.9828 - val_loss: 0.0155 - val_categorical_accuracy: 0.9955\n",
      "Epoch 5/12\n",
      "12054/12054 [==============================] - 3s 266us/sample - loss: 0.0430 - categorical_accuracy: 0.9860 - val_loss: 0.0139 - val_categorical_accuracy: 0.9965\n",
      "Epoch 6/12\n",
      "12054/12054 [==============================] - 3s 266us/sample - loss: 0.0398 - categorical_accuracy: 0.9865 - val_loss: 0.0125 - val_categorical_accuracy: 0.9960\n",
      "Epoch 7/12\n",
      "12054/12054 [==============================] - 3s 266us/sample - loss: 0.0353 - categorical_accuracy: 0.9882 - val_loss: 0.0116 - val_categorical_accuracy: 0.9970\n",
      "Epoch 8/12\n",
      "12054/12054 [==============================] - 3s 268us/sample - loss: 0.0327 - categorical_accuracy: 0.9878 - val_loss: 0.0108 - val_categorical_accuracy: 0.9970gorical_accura\n",
      "Epoch 9/12\n",
      "12054/12054 [==============================] - 3s 268us/sample - loss: 0.0325 - categorical_accuracy: 0.9891 - val_loss: 0.0100 - val_categorical_accuracy: 0.9975\n",
      "Epoch 10/12\n",
      "12054/12054 [==============================] - 3s 266us/sample - loss: 0.0318 - categorical_accuracy: 0.9889 - val_loss: 0.0096 - val_categorical_accuracy: 0.9975\n",
      "Epoch 11/12\n",
      "12054/12054 [==============================] - 3s 265us/sample - loss: 0.0304 - categorical_accuracy: 0.9900 - val_loss: 0.0092 - val_categorical_accuracy: 0.9975\n",
      "Epoch 12/12\n",
      "12054/12054 [==============================] - 3s 266us/sample - loss: 0.0279 - categorical_accuracy: 0.9895 - val_loss: 0.0089 - val_categorical_accuracy: 0.9975\n"
     ]
    }
   ],
   "source": [
    "regular_classifier = train_cnn(train_x=binary_train_images,\n",
    "                              train_y=binary_train_labels,\n",
    "                              test_x=binary_test_images,\n",
    "                              test_y=binary_test_labels,\n",
    "                              n_classes=2)"
   ]
  },
  {
   "cell_type": "code",
   "execution_count": 34,
   "metadata": {},
   "outputs": [],
   "source": [
    "positive_binary_test_indices = (binary_test_labels == np.array([0., 1.])).all(axis=1).nonzero()\n",
    "binary_positive_test_images = binary_test_images[positive_binary_test_indices]\n",
    "regular_logits_model = keras.Model(inputs=regular_classifier.input,\n",
    "                                   outputs=regular_classifier.get_layer(\"logits\").output)\n",
    "regular_logits = regular_logits_model.predict(binary_positive_test_images)\n",
    "softmax_values = regular_classifier.predict(binary_positive_test_images)"
   ]
  },
  {
   "cell_type": "code",
   "execution_count": 51,
   "metadata": {},
   "outputs": [],
   "source": [
    "def plot(x, y):\n",
    "    fig, ax = plt.subplots()\n",
    "    fig.set_size_inches(10, 8)\n",
    "    ax.scatter(x, y, s=2)\n",
    "\n",
    "    ax.spines['left'].set_position('zero')\n",
    "    ax.spines['right'].set_color('none')\n",
    "    ax.spines['bottom'].set_position('zero')\n",
    "    ax.spines['top'].set_color('none')\n",
    "    ax.spines['left'].set_smart_bounds(True)\n",
    "    ax.spines['bottom'].set_smart_bounds(True)\n",
    "    ax.xaxis.set_ticks_position('bottom')\n",
    "    ax.yaxis.set_ticks_position('left')\n",
    "\n",
    "    plt.show()"
   ]
  },
  {
   "cell_type": "code",
   "execution_count": 37,
   "metadata": {},
   "outputs": [
    {
     "data": {
      "image/png": "[encoded data removed]",
      "text/plain": [
       "<Figure size 720x576 with 1 Axes>"
      ]
     },
     "metadata": {
      "needs_background": "light"
     },
     "output_type": "display_data"
    }
   ],
   "source": [
    "x, y = regular_logits[:,0], regular_logits[:,1]\n",
    "plot(x, y)"
   ]
  },
  {
   "cell_type": "code",
   "execution_count": 38,
   "metadata": {},
   "outputs": [
    {
     "data": {
      "image/png": "[encoded data removed]",
      "text/plain": [
       "<Figure size 720x576 with 1 Axes>"
      ]
     },
     "metadata": {
      "needs_background": "light"
     },
     "output_type": "display_data"
    }
   ],
   "source": [
    "x, y = softmax_values[:,0], softmax_values[:,1]\n",
    "plot(x, y)"
   ]
  },
  {
   "cell_type": "code",
   "execution_count": 48,
   "metadata": {},
   "outputs": [],
   "source": [
    "distilled_logits_model = keras.Model(inputs=binary_student_inference.input,\n",
    "                                     outputs=binary_student_inference.get_layer(\"logits\").output)\n",
    "regular_logits = distilled_logits_model.predict(binary_positive_test_images)\n",
    "softmax_values = binary_student_inference.predict(binary_positive_test_images)"
   ]
  },
  {
   "cell_type": "code",
   "execution_count": 49,
   "metadata": {},
   "outputs": [
    {
     "data": {
      "image/png": "[encoded data removed]",
      "text/plain": [
       "<Figure size 720x576 with 1 Axes>"
      ]
     },
     "metadata": {
      "needs_background": "light"
     },
     "output_type": "display_data"
    }
   ],
   "source": [
    "x, y = regular_logits[:,0], regular_logits[:,1]\n",
    "plot(x, y)"
   ]
  },
  {
   "cell_type": "code",
   "execution_count": 52,
   "metadata": {},
   "outputs": [
    {
     "data": {
      "image/png": "[encoded data removed]",
      "text/plain": [
       "<Figure size 720x576 with 1 Axes>"
      ]
     },
     "metadata": {
      "needs_background": "light"
     },
     "output_type": "display_data"
    }
   ],
   "source": [
    "x, y = softmax_values[:,0], softmax_values[:,1]\n",
    "plot(x, y)"
   ]
  }
 ],
 "metadata": {
  "accelerator": "GPU",
  "colab": {
   "authorship_tag": "ABX9TyNzkZ6GhmZoMT3aWbV8Acdp",
   "collapsed_sections": [],
   "name": "adversarial_1.ipynb",
   "provenance": []
  },
  "kernelspec": {
   "display_name": "Python 3",
   "language": "python",
   "name": "python3"
  },
  "language_info": {
   "codemirror_mode": {
    "name": "ipython",
    "version": 3
   },
   "file_extension": ".py",
   "mimetype": "text/x-python",
   "name": "python",
   "nbconvert_exporter": "python",
   "pygments_lexer": "ipython3",
   "version": "3.7.3"
  }
 },
 "nbformat": 4,
 "nbformat_minor": 1
}
